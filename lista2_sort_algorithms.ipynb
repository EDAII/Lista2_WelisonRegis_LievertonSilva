{
 "cells": [
  {
   "cell_type": "code",
   "execution_count": 4,
   "metadata": {},
   "outputs": [],
   "source": [
    "import pandas as pd\n",
    "import numpy as np\n",
    "import matplotlib\n",
    "import urllib\n",
    "\n",
    "from matplotlib import pyplot as plt"
   ]
  },
  {
   "cell_type": "markdown",
   "metadata": {},
   "source": [
    "# Soccer player class"
   ]
  },
  {
   "cell_type": "code",
   "execution_count": 5,
   "metadata": {},
   "outputs": [],
   "source": [
    "class Player:\n",
    "    \"\"\"Model to represent a soccer player\n",
    "\n",
    "    Attributes:\n",
    "        ID: ID of soccer player according to FIFA 19;\n",
    "        name: soccer player name;\n",
    "        photo: url with soccer photo;\n",
    "        nationality: player nationality;\n",
    "        club: club name;\n",
    "        club_logo: url with club logo photo.\n",
    "    \"\"\"\n",
    "    \n",
    "    def __init__(self, ID, name, photo, nationality, flag, club, club_logo):\n",
    "        self.ID = int(ID)\n",
    "        self.name = name\n",
    "        self.photo = photo\n",
    "        self.nationality = nationality\n",
    "        self.flag = flag\n",
    "        self.club = club\n",
    "        self.club_logo = club_logo\n",
    "    \n",
    "    def __lt__(self, other):\n",
    "        return self.ID < other.ID"
   ]
  },
  {
   "cell_type": "code",
   "execution_count": 6,
   "metadata": {},
   "outputs": [],
   "source": [
    "def read_csv(filename = './assets/data.csv'): \n",
    "    \"\"\"Method to read specific soccer informations from csv file\n",
    "    \n",
    "    attributes:\n",
    "        filename: path to csv file with soccer informations.\n",
    "    \"\"\"\n",
    "    \n",
    "    df = pd.read_csv(filename, usecols=['ID', 'Name', 'Photo', 'Nationality', 'Flag', 'Club', 'Club Logo'])\n",
    "    \n",
    "    players = []\n",
    "    for index, row in df.iterrows():\n",
    "        ID = int(row['ID'])\n",
    "        name = row['Name']\n",
    "        photo = row['Photo']\n",
    "        nationality = row['Nationality']\n",
    "        flag = row['Flag']\n",
    "        club = row['Club']\n",
    "        club_logo = row['Club Logo']\n",
    "        \n",
    "        player = Player(ID, name, photo, nationality, flag, club, club_logo)\n",
    "        players.append(player)\n",
    "    \n",
    "    return players"
   ]
  },
  {
   "cell_type": "code",
   "execution_count": 7,
   "metadata": {},
   "outputs": [],
   "source": [
    "players = read_csv()"
   ]
  },
  {
   "cell_type": "code",
   "execution_count": 8,
   "metadata": {},
   "outputs": [],
   "source": [
    "def show_player_informations(player):\n",
    "    \"\"\"show player informations, including photo\n",
    "    \n",
    "    Attributes:\n",
    "        player: soccer player.\n",
    "    \n",
    "    \n",
    "    OBS: INTERNET CONNECTION IS REQUIRED!\n",
    "    \"\"\"\n",
    "    \n",
    "    user_agent = 'Mozilla/5.0 (Windows; U; Windows NT 5.1; en-US; rv:1.9.0.7) Gecko/2009021910 Firefox/3.0.7'\n",
    "    \n",
    "    # take photo url and increase size with replace\n",
    "    player_photo = player.photo.replace(r'/4/', r'/6/')\n",
    "    \n",
    "    try:\n",
    "        request = urllib.request.Request(player_photo, headers={'User-Agent': user_agent})\n",
    "        response = urllib.request.urlopen(request)\n",
    "    except Exception as e:\n",
    "        print('Houve um problema na conexão com os servidores FIFA!')\n",
    "    \n",
    "    image = plt.imread(response, format='PNG') # read the image file in a numpy array\n",
    "    image = image.copy() # avoid read-only\n",
    "\n",
    "    plt.imshow(image)\n",
    "    plt.show()\n",
    "    \n",
    "    print('Nome: ', player.name)\n",
    "    print('ID: ', player.ID)\n",
    "    print('Nacionalidade: ', player.nationality)\n",
    "    print('Clube: ', player.club)"
   ]
  },
  {
   "cell_type": "code",
   "execution_count": 9,
   "metadata": {},
   "outputs": [],
   "source": [
    "def show_n_players(players, n = 5):\n",
    "    print('Primeiros cinco jogadores da lista:\\n')\n",
    "    for i, player in enumerate(players):\n",
    "        if (i < n):\n",
    "            show_player_informations(player)"
   ]
  },
  {
   "cell_type": "code",
   "execution_count": null,
   "metadata": {},
   "outputs": [
    {
     "name": "stdout",
     "output_type": "stream",
     "text": [
      "Primeiros cinco jogadores da lista:\n",
      "\n"
     ]
    },
    {
     "data": {
      "image/png": "[encoded data removed]",
      "text/plain": [
       "<Figure size 432x288 with 1 Axes>"
      ]
     },
     "metadata": {
      "needs_background": "light"
     },
     "output_type": "display_data"
    },
    {
     "name": "stdout",
     "output_type": "stream",
     "text": [
      "Nome:  L. Messi\n",
      "ID:  158023\n",
      "Nacionalidade:  Argentina\n",
      "Clube:  FC Barcelona\n"
     ]
    }
   ],
   "source": [
    "show_n_players(players, 5)"
   ]
  },
  {
   "cell_type": "code",
   "execution_count": null,
   "metadata": {},
   "outputs": [],
   "source": []
  }
 ],
 "metadata": {
  "kernelspec": {
   "display_name": "Python 3",
   "language": "python",
   "name": "python3"
  },
  "language_info": {
   "codemirror_mode": {
    "name": "ipython",
    "version": 3
   },
   "file_extension": ".py",
   "mimetype": "text/x-python",
   "name": "python",
   "nbconvert_exporter": "python",
   "pygments_lexer": "ipython3",
   "version": "3.7.3"
  }
 },
 "nbformat": 4,
 "nbformat_minor": 2
}
